{
 "cells": [
  {
   "cell_type": "markdown",
   "id": "eb2699ef",
   "metadata": {
    "id": "eb2699ef"
   },
   "source": [
    "**Dataset**\n",
    "\n",
    "The name of the dataset is sales.csv\n",
    "\n",
    "**Context**\n",
    "\n",
    "This dataset is a record of some building or building unit (apartment, etc.) sold in the New York City property market over a 8-month period.\n",
    "\n",
    "**Content**\n",
    "\n",
    "This dataset contains the location, address, type, sale price, and sale date of building units sold. A reference on the trickier fields:\n",
    "\n",
    "    BOROUGH: A digit code for the borough the property is located in; in order these are Manhattan (1), Bronx (2), Brooklyn (3), Queens (4), and Staten Island (5).\n",
    "    BLOCK, LOT: The combination of borough, block, and lot forms a unique key for property in New York City. Commonly called a BBL.\n",
    "\n",
    "Note that because this is a financial transaction dataset, there are some points that need to be kept in mind:\n",
    "\n",
    "    Many sales occur with a nonsensically small dollar amount: $0 most commonly. These sales are actually transfers of deeds between parties: for example, parents transferring ownership to their home to a child after moving out for retirement."
   ]
  },
  {
   "cell_type": "markdown",
   "id": "4b259d6d",
   "metadata": {
    "id": "4b259d6d"
   },
   "source": [
    "Import the sales.csv dataset"
   ]
  },
  {
   "cell_type": "code",
   "execution_count": 2,
   "id": "a604739b",
   "metadata": {
    "id": "a604739b"
   },
   "outputs": [],
   "source": [
    "import pandas as pd"
   ]
  },
  {
   "cell_type": "code",
   "execution_count": 4,
   "id": "c2a80f7c-e069-4642-8e96-0fb9284eb26f",
   "metadata": {},
   "outputs": [
    {
     "name": "stdout",
     "output_type": "stream",
     "text": [
      "Pandas Version :  2.2.2\n"
     ]
    }
   ],
   "source": [
    "print('Pandas Version : ' , pd.__version__)"
   ]
  },
  {
   "cell_type": "code",
   "execution_count": 6,
   "id": "b7cf6bf7-84c5-404a-82dc-de2b6651198d",
   "metadata": {},
   "outputs": [],
   "source": [
    "df = pd.read_csv('sales.csv')"
   ]
  },
  {
   "cell_type": "code",
   "execution_count": 8,
   "id": "03fde762-55e6-4558-9e50-b724167dc300",
   "metadata": {},
   "outputs": [
    {
     "data": {
      "text/plain": [
       "pandas.core.frame.DataFrame"
      ]
     },
     "execution_count": 8,
     "metadata": {},
     "output_type": "execute_result"
    }
   ],
   "source": [
    "type(df)"
   ]
  },
  {
   "cell_type": "markdown",
   "id": "743e50cc",
   "metadata": {
    "id": "743e50cc"
   },
   "source": [
    "check the info of the dataset"
   ]
  },
  {
   "cell_type": "code",
   "execution_count": 12,
   "id": "2661ebdf-f24c-4296-b4ec-8dddbb099a98",
   "metadata": {},
   "outputs": [
    {
     "data": {
      "text/html": [
       "<div>\n",
       "<style scoped>\n",
       "    .dataframe tbody tr th:only-of-type {\n",
       "        vertical-align: middle;\n",
       "    }\n",
       "\n",
       "    .dataframe tbody tr th {\n",
       "        vertical-align: top;\n",
       "    }\n",
       "\n",
       "    .dataframe thead th {\n",
       "        text-align: right;\n",
       "    }\n",
       "</style>\n",
       "<table border=\"1\" class=\"dataframe\">\n",
       "  <thead>\n",
       "    <tr style=\"text-align: right;\">\n",
       "      <th></th>\n",
       "      <th>BOROUGH</th>\n",
       "      <th>NEIGHBORHOOD</th>\n",
       "      <th>BUILDING CLASS CATEGORY</th>\n",
       "      <th>TAX CLASS AT PRESENT</th>\n",
       "      <th>BLOCK</th>\n",
       "      <th>LOT</th>\n",
       "      <th>ADDRESS</th>\n",
       "      <th>ZIP CODE</th>\n",
       "      <th>RESIDENTIAL UNITS</th>\n",
       "      <th>COMMERCIAL UNITS</th>\n",
       "      <th>TOTAL UNITS</th>\n",
       "      <th>LAND SQUARE FEET</th>\n",
       "      <th>YEAR BUILT</th>\n",
       "      <th>SALE PRICE</th>\n",
       "      <th>SALE DATE</th>\n",
       "    </tr>\n",
       "  </thead>\n",
       "  <tbody>\n",
       "    <tr>\n",
       "      <th>0</th>\n",
       "      <td>3</td>\n",
       "      <td>KENSINGTON</td>\n",
       "      <td>09 COOPS - WALKUP APARTMENTS</td>\n",
       "      <td>2</td>\n",
       "      <td>5329</td>\n",
       "      <td>62</td>\n",
       "      <td>179 OCEAN PARKWAY, 3A</td>\n",
       "      <td>11218</td>\n",
       "      <td>0</td>\n",
       "      <td>0</td>\n",
       "      <td>0</td>\n",
       "      <td>0</td>\n",
       "      <td>1923</td>\n",
       "      <td>389000</td>\n",
       "      <td>8/1/2017</td>\n",
       "    </tr>\n",
       "    <tr>\n",
       "      <th>1</th>\n",
       "      <td>3</td>\n",
       "      <td>BAY RIDGE</td>\n",
       "      <td>02 TWO FAMILY DWELLINGS</td>\n",
       "      <td>1</td>\n",
       "      <td>5911</td>\n",
       "      <td>8</td>\n",
       "      <td>7205 6 AVENUE</td>\n",
       "      <td>11209</td>\n",
       "      <td>2</td>\n",
       "      <td>0</td>\n",
       "      <td>2</td>\n",
       "      <td>2177</td>\n",
       "      <td>1910</td>\n",
       "      <td>0</td>\n",
       "      <td>5/30/2017</td>\n",
       "    </tr>\n",
       "    <tr>\n",
       "      <th>2</th>\n",
       "      <td>1</td>\n",
       "      <td>UPPER EAST SIDE (79-96)</td>\n",
       "      <td>10 COOPS - ELEVATOR APARTMENTS</td>\n",
       "      <td>2</td>\n",
       "      <td>1512</td>\n",
       "      <td>1</td>\n",
       "      <td>983 PARK AVENUE, 3C</td>\n",
       "      <td>10028</td>\n",
       "      <td>0</td>\n",
       "      <td>0</td>\n",
       "      <td>0</td>\n",
       "      <td>0</td>\n",
       "      <td>1927</td>\n",
       "      <td>7600000</td>\n",
       "      <td>5/10/2017</td>\n",
       "    </tr>\n",
       "    <tr>\n",
       "      <th>3</th>\n",
       "      <td>4</td>\n",
       "      <td>ROCKAWAY PARK</td>\n",
       "      <td>03 THREE FAMILY DWELLINGS</td>\n",
       "      <td>1</td>\n",
       "      <td>16213</td>\n",
       "      <td>16</td>\n",
       "      <td>241 BEACH 117 STREET</td>\n",
       "      <td>11694</td>\n",
       "      <td>3</td>\n",
       "      <td>0</td>\n",
       "      <td>3</td>\n",
       "      <td>4000</td>\n",
       "      <td>1905</td>\n",
       "      <td>0</td>\n",
       "      <td>5/12/2017</td>\n",
       "    </tr>\n",
       "    <tr>\n",
       "      <th>4</th>\n",
       "      <td>4</td>\n",
       "      <td>DOUGLASTON</td>\n",
       "      <td>02 TWO FAMILY DWELLINGS</td>\n",
       "      <td>1</td>\n",
       "      <td>8304</td>\n",
       "      <td>28</td>\n",
       "      <td>245-71 61ST   AVENUE</td>\n",
       "      <td>11362</td>\n",
       "      <td>2</td>\n",
       "      <td>0</td>\n",
       "      <td>2</td>\n",
       "      <td>3600</td>\n",
       "      <td>1950</td>\n",
       "      <td>844180</td>\n",
       "      <td>6/27/2017</td>\n",
       "    </tr>\n",
       "  </tbody>\n",
       "</table>\n",
       "</div>"
      ],
      "text/plain": [
       "   BOROUGH             NEIGHBORHOOD  \\\n",
       "0        3               KENSINGTON   \n",
       "1        3                BAY RIDGE   \n",
       "2        1  UPPER EAST SIDE (79-96)   \n",
       "3        4            ROCKAWAY PARK   \n",
       "4        4               DOUGLASTON   \n",
       "\n",
       "                       BUILDING CLASS CATEGORY TAX CLASS AT PRESENT  BLOCK  \\\n",
       "0  09 COOPS - WALKUP APARTMENTS                                   2   5329   \n",
       "1  02 TWO FAMILY DWELLINGS                                        1   5911   \n",
       "2  10 COOPS - ELEVATOR APARTMENTS                                 2   1512   \n",
       "3  03 THREE FAMILY DWELLINGS                                      1  16213   \n",
       "4  02 TWO FAMILY DWELLINGS                                        1   8304   \n",
       "\n",
       "   LOT                ADDRESS  ZIP CODE  RESIDENTIAL UNITS  COMMERCIAL UNITS  \\\n",
       "0   62  179 OCEAN PARKWAY, 3A     11218                  0                 0   \n",
       "1    8          7205 6 AVENUE     11209                  2                 0   \n",
       "2    1    983 PARK AVENUE, 3C     10028                  0                 0   \n",
       "3   16   241 BEACH 117 STREET     11694                  3                 0   \n",
       "4   28   245-71 61ST   AVENUE     11362                  2                 0   \n",
       "\n",
       "   TOTAL UNITS  LAND SQUARE FEET  YEAR BUILT  SALE PRICE  SALE DATE  \n",
       "0            0                 0        1923      389000   8/1/2017  \n",
       "1            2              2177        1910           0  5/30/2017  \n",
       "2            0                 0        1927     7600000  5/10/2017  \n",
       "3            3              4000        1905           0  5/12/2017  \n",
       "4            2              3600        1950      844180  6/27/2017  "
      ]
     },
     "execution_count": 12,
     "metadata": {},
     "output_type": "execute_result"
    }
   ],
   "source": [
    "df.head()"
   ]
  },
  {
   "cell_type": "code",
   "execution_count": 10,
   "id": "93356b6c",
   "metadata": {
    "id": "93356b6c"
   },
   "outputs": [
    {
     "name": "stdout",
     "output_type": "stream",
     "text": [
      "<class 'pandas.core.frame.DataFrame'>\n",
      "RangeIndex: 3579 entries, 0 to 3578\n",
      "Data columns (total 15 columns):\n",
      " #   Column                   Non-Null Count  Dtype \n",
      "---  ------                   --------------  ----- \n",
      " 0   BOROUGH                  3579 non-null   int64 \n",
      " 1   NEIGHBORHOOD             3579 non-null   object\n",
      " 2   BUILDING CLASS CATEGORY  3579 non-null   object\n",
      " 3   TAX CLASS AT PRESENT     3579 non-null   object\n",
      " 4   BLOCK                    3579 non-null   int64 \n",
      " 5   LOT                      3579 non-null   int64 \n",
      " 6   ADDRESS                  3579 non-null   object\n",
      " 7   ZIP CODE                 3579 non-null   int64 \n",
      " 8   RESIDENTIAL UNITS        3579 non-null   int64 \n",
      " 9   COMMERCIAL UNITS         3579 non-null   int64 \n",
      " 10  TOTAL UNITS              3579 non-null   int64 \n",
      " 11  LAND SQUARE FEET         3579 non-null   int64 \n",
      " 12  YEAR BUILT               3579 non-null   int64 \n",
      " 13  SALE PRICE               3579 non-null   int64 \n",
      " 14  SALE DATE                3579 non-null   object\n",
      "dtypes: int64(10), object(5)\n",
      "memory usage: 419.5+ KB\n"
     ]
    }
   ],
   "source": [
    "df.info()"
   ]
  },
  {
   "cell_type": "markdown",
   "id": "4f7578b5",
   "metadata": {
    "id": "4f7578b5"
   },
   "source": [
    "check the description of the dataset"
   ]
  },
  {
   "cell_type": "code",
   "execution_count": 14,
   "id": "1b455577",
   "metadata": {
    "id": "1b455577"
   },
   "outputs": [
    {
     "data": {
      "text/html": [
       "<div>\n",
       "<style scoped>\n",
       "    .dataframe tbody tr th:only-of-type {\n",
       "        vertical-align: middle;\n",
       "    }\n",
       "\n",
       "    .dataframe tbody tr th {\n",
       "        vertical-align: top;\n",
       "    }\n",
       "\n",
       "    .dataframe thead th {\n",
       "        text-align: right;\n",
       "    }\n",
       "</style>\n",
       "<table border=\"1\" class=\"dataframe\">\n",
       "  <thead>\n",
       "    <tr style=\"text-align: right;\">\n",
       "      <th></th>\n",
       "      <th>BOROUGH</th>\n",
       "      <th>BLOCK</th>\n",
       "      <th>LOT</th>\n",
       "      <th>ZIP CODE</th>\n",
       "      <th>RESIDENTIAL UNITS</th>\n",
       "      <th>COMMERCIAL UNITS</th>\n",
       "      <th>TOTAL UNITS</th>\n",
       "      <th>LAND SQUARE FEET</th>\n",
       "      <th>YEAR BUILT</th>\n",
       "      <th>SALE PRICE</th>\n",
       "    </tr>\n",
       "  </thead>\n",
       "  <tbody>\n",
       "    <tr>\n",
       "      <th>count</th>\n",
       "      <td>3579.000000</td>\n",
       "      <td>3579.000000</td>\n",
       "      <td>3579.000000</td>\n",
       "      <td>3579.000000</td>\n",
       "      <td>3579.000000</td>\n",
       "      <td>3579.000000</td>\n",
       "      <td>3579.000000</td>\n",
       "      <td>3.579000e+03</td>\n",
       "      <td>3579.000000</td>\n",
       "      <td>3.579000e+03</td>\n",
       "    </tr>\n",
       "    <tr>\n",
       "      <th>mean</th>\n",
       "      <td>2.966192</td>\n",
       "      <td>4150.419670</td>\n",
       "      <td>381.842414</td>\n",
       "      <td>10680.873987</td>\n",
       "      <td>2.290025</td>\n",
       "      <td>0.153674</td>\n",
       "      <td>2.473875</td>\n",
       "      <td>3.605483e+03</td>\n",
       "      <td>1782.920648</td>\n",
       "      <td>1.005316e+06</td>\n",
       "    </tr>\n",
       "    <tr>\n",
       "      <th>std</th>\n",
       "      <td>1.294840</td>\n",
       "      <td>3531.382379</td>\n",
       "      <td>637.913571</td>\n",
       "      <td>1447.476149</td>\n",
       "      <td>31.872076</td>\n",
       "      <td>3.250381</td>\n",
       "      <td>32.387727</td>\n",
       "      <td>7.225966e+04</td>\n",
       "      <td>547.202378</td>\n",
       "      <td>3.513772e+06</td>\n",
       "    </tr>\n",
       "    <tr>\n",
       "      <th>min</th>\n",
       "      <td>1.000000</td>\n",
       "      <td>3.000000</td>\n",
       "      <td>1.000000</td>\n",
       "      <td>0.000000</td>\n",
       "      <td>0.000000</td>\n",
       "      <td>0.000000</td>\n",
       "      <td>0.000000</td>\n",
       "      <td>0.000000e+00</td>\n",
       "      <td>0.000000</td>\n",
       "      <td>0.000000e+00</td>\n",
       "    </tr>\n",
       "    <tr>\n",
       "      <th>25%</th>\n",
       "      <td>2.000000</td>\n",
       "      <td>1323.500000</td>\n",
       "      <td>22.000000</td>\n",
       "      <td>10303.000000</td>\n",
       "      <td>0.000000</td>\n",
       "      <td>0.000000</td>\n",
       "      <td>1.000000</td>\n",
       "      <td>0.000000e+00</td>\n",
       "      <td>1920.000000</td>\n",
       "      <td>0.000000e+00</td>\n",
       "    </tr>\n",
       "    <tr>\n",
       "      <th>50%</th>\n",
       "      <td>3.000000</td>\n",
       "      <td>3164.000000</td>\n",
       "      <td>50.000000</td>\n",
       "      <td>11208.000000</td>\n",
       "      <td>1.000000</td>\n",
       "      <td>0.000000</td>\n",
       "      <td>1.000000</td>\n",
       "      <td>1.710000e+03</td>\n",
       "      <td>1940.000000</td>\n",
       "      <td>4.300000e+05</td>\n",
       "    </tr>\n",
       "    <tr>\n",
       "      <th>75%</th>\n",
       "      <td>4.000000</td>\n",
       "      <td>6067.500000</td>\n",
       "      <td>1002.000000</td>\n",
       "      <td>11355.000000</td>\n",
       "      <td>2.000000</td>\n",
       "      <td>0.000000</td>\n",
       "      <td>2.000000</td>\n",
       "      <td>2.668500e+03</td>\n",
       "      <td>1966.000000</td>\n",
       "      <td>8.475000e+05</td>\n",
       "    </tr>\n",
       "    <tr>\n",
       "      <th>max</th>\n",
       "      <td>5.000000</td>\n",
       "      <td>16316.000000</td>\n",
       "      <td>7232.000000</td>\n",
       "      <td>11694.000000</td>\n",
       "      <td>1844.000000</td>\n",
       "      <td>184.000000</td>\n",
       "      <td>1866.000000</td>\n",
       "      <td>4.228300e+06</td>\n",
       "      <td>2017.000000</td>\n",
       "      <td>8.637500e+07</td>\n",
       "    </tr>\n",
       "  </tbody>\n",
       "</table>\n",
       "</div>"
      ],
      "text/plain": [
       "           BOROUGH         BLOCK          LOT      ZIP CODE  \\\n",
       "count  3579.000000   3579.000000  3579.000000   3579.000000   \n",
       "mean      2.966192   4150.419670   381.842414  10680.873987   \n",
       "std       1.294840   3531.382379   637.913571   1447.476149   \n",
       "min       1.000000      3.000000     1.000000      0.000000   \n",
       "25%       2.000000   1323.500000    22.000000  10303.000000   \n",
       "50%       3.000000   3164.000000    50.000000  11208.000000   \n",
       "75%       4.000000   6067.500000  1002.000000  11355.000000   \n",
       "max       5.000000  16316.000000  7232.000000  11694.000000   \n",
       "\n",
       "       RESIDENTIAL UNITS  COMMERCIAL UNITS  TOTAL UNITS  LAND SQUARE FEET  \\\n",
       "count        3579.000000       3579.000000  3579.000000      3.579000e+03   \n",
       "mean            2.290025          0.153674     2.473875      3.605483e+03   \n",
       "std            31.872076          3.250381    32.387727      7.225966e+04   \n",
       "min             0.000000          0.000000     0.000000      0.000000e+00   \n",
       "25%             0.000000          0.000000     1.000000      0.000000e+00   \n",
       "50%             1.000000          0.000000     1.000000      1.710000e+03   \n",
       "75%             2.000000          0.000000     2.000000      2.668500e+03   \n",
       "max          1844.000000        184.000000  1866.000000      4.228300e+06   \n",
       "\n",
       "        YEAR BUILT    SALE PRICE  \n",
       "count  3579.000000  3.579000e+03  \n",
       "mean   1782.920648  1.005316e+06  \n",
       "std     547.202378  3.513772e+06  \n",
       "min       0.000000  0.000000e+00  \n",
       "25%    1920.000000  0.000000e+00  \n",
       "50%    1940.000000  4.300000e+05  \n",
       "75%    1966.000000  8.475000e+05  \n",
       "max    2017.000000  8.637500e+07  "
      ]
     },
     "execution_count": 14,
     "metadata": {},
     "output_type": "execute_result"
    }
   ],
   "source": [
    "df.describe()"
   ]
  },
  {
   "cell_type": "markdown",
   "id": "825efd1a",
   "metadata": {},
   "source": [
    "Write a function named create_bbl_key that takes three arguments:\n",
    "- borough (integer)\n",
    "- block (integer)\n",
    "- lot (integer)\n",
    "\n",
    "The function should concatenate these values into a single string in the format:\n",
    "\"{borough}-{block}-{lot}\"\n",
    "\n",
    "Then, apply this function to the dataset to create a new column called \"BBL_KEY\" that contains the BBL key for each property."
   ]
  },
  {
   "cell_type": "code",
   "execution_count": 16,
   "id": "4113eb0a",
   "metadata": {},
   "outputs": [],
   "source": [
    "def create_bbl_key(borough: int, block: int, lot: int) -> str:\n",
    "    \"\"\"\n",
    "    Concatenates borough, block, and lot into a single string in the format \"borough-block-lot\".\n",
    "    \"\"\"\n",
    "    return f\"{borough}-{block}-{lot}\"\n"
   ]
  },
  {
   "cell_type": "code",
   "execution_count": 18,
   "id": "a0880f52",
   "metadata": {},
   "outputs": [
    {
     "data": {
      "text/html": [
       "<div>\n",
       "<style scoped>\n",
       "    .dataframe tbody tr th:only-of-type {\n",
       "        vertical-align: middle;\n",
       "    }\n",
       "\n",
       "    .dataframe tbody tr th {\n",
       "        vertical-align: top;\n",
       "    }\n",
       "\n",
       "    .dataframe thead th {\n",
       "        text-align: right;\n",
       "    }\n",
       "</style>\n",
       "<table border=\"1\" class=\"dataframe\">\n",
       "  <thead>\n",
       "    <tr style=\"text-align: right;\">\n",
       "      <th></th>\n",
       "      <th>BOROUGH</th>\n",
       "      <th>NEIGHBORHOOD</th>\n",
       "      <th>BUILDING CLASS CATEGORY</th>\n",
       "      <th>TAX CLASS AT PRESENT</th>\n",
       "      <th>BLOCK</th>\n",
       "      <th>LOT</th>\n",
       "      <th>ADDRESS</th>\n",
       "      <th>ZIP CODE</th>\n",
       "      <th>RESIDENTIAL UNITS</th>\n",
       "      <th>COMMERCIAL UNITS</th>\n",
       "      <th>TOTAL UNITS</th>\n",
       "      <th>LAND SQUARE FEET</th>\n",
       "      <th>YEAR BUILT</th>\n",
       "      <th>SALE PRICE</th>\n",
       "      <th>SALE DATE</th>\n",
       "    </tr>\n",
       "  </thead>\n",
       "  <tbody>\n",
       "    <tr>\n",
       "      <th>0</th>\n",
       "      <td>3</td>\n",
       "      <td>KENSINGTON</td>\n",
       "      <td>09 COOPS - WALKUP APARTMENTS</td>\n",
       "      <td>2</td>\n",
       "      <td>5329</td>\n",
       "      <td>62</td>\n",
       "      <td>179 OCEAN PARKWAY, 3A</td>\n",
       "      <td>11218</td>\n",
       "      <td>0</td>\n",
       "      <td>0</td>\n",
       "      <td>0</td>\n",
       "      <td>0</td>\n",
       "      <td>1923</td>\n",
       "      <td>389000</td>\n",
       "      <td>8/1/2017</td>\n",
       "    </tr>\n",
       "    <tr>\n",
       "      <th>1</th>\n",
       "      <td>3</td>\n",
       "      <td>BAY RIDGE</td>\n",
       "      <td>02 TWO FAMILY DWELLINGS</td>\n",
       "      <td>1</td>\n",
       "      <td>5911</td>\n",
       "      <td>8</td>\n",
       "      <td>7205 6 AVENUE</td>\n",
       "      <td>11209</td>\n",
       "      <td>2</td>\n",
       "      <td>0</td>\n",
       "      <td>2</td>\n",
       "      <td>2177</td>\n",
       "      <td>1910</td>\n",
       "      <td>0</td>\n",
       "      <td>5/30/2017</td>\n",
       "    </tr>\n",
       "    <tr>\n",
       "      <th>2</th>\n",
       "      <td>1</td>\n",
       "      <td>UPPER EAST SIDE (79-96)</td>\n",
       "      <td>10 COOPS - ELEVATOR APARTMENTS</td>\n",
       "      <td>2</td>\n",
       "      <td>1512</td>\n",
       "      <td>1</td>\n",
       "      <td>983 PARK AVENUE, 3C</td>\n",
       "      <td>10028</td>\n",
       "      <td>0</td>\n",
       "      <td>0</td>\n",
       "      <td>0</td>\n",
       "      <td>0</td>\n",
       "      <td>1927</td>\n",
       "      <td>7600000</td>\n",
       "      <td>5/10/2017</td>\n",
       "    </tr>\n",
       "    <tr>\n",
       "      <th>3</th>\n",
       "      <td>4</td>\n",
       "      <td>ROCKAWAY PARK</td>\n",
       "      <td>03 THREE FAMILY DWELLINGS</td>\n",
       "      <td>1</td>\n",
       "      <td>16213</td>\n",
       "      <td>16</td>\n",
       "      <td>241 BEACH 117 STREET</td>\n",
       "      <td>11694</td>\n",
       "      <td>3</td>\n",
       "      <td>0</td>\n",
       "      <td>3</td>\n",
       "      <td>4000</td>\n",
       "      <td>1905</td>\n",
       "      <td>0</td>\n",
       "      <td>5/12/2017</td>\n",
       "    </tr>\n",
       "    <tr>\n",
       "      <th>4</th>\n",
       "      <td>4</td>\n",
       "      <td>DOUGLASTON</td>\n",
       "      <td>02 TWO FAMILY DWELLINGS</td>\n",
       "      <td>1</td>\n",
       "      <td>8304</td>\n",
       "      <td>28</td>\n",
       "      <td>245-71 61ST   AVENUE</td>\n",
       "      <td>11362</td>\n",
       "      <td>2</td>\n",
       "      <td>0</td>\n",
       "      <td>2</td>\n",
       "      <td>3600</td>\n",
       "      <td>1950</td>\n",
       "      <td>844180</td>\n",
       "      <td>6/27/2017</td>\n",
       "    </tr>\n",
       "  </tbody>\n",
       "</table>\n",
       "</div>"
      ],
      "text/plain": [
       "   BOROUGH             NEIGHBORHOOD  \\\n",
       "0        3               KENSINGTON   \n",
       "1        3                BAY RIDGE   \n",
       "2        1  UPPER EAST SIDE (79-96)   \n",
       "3        4            ROCKAWAY PARK   \n",
       "4        4               DOUGLASTON   \n",
       "\n",
       "                       BUILDING CLASS CATEGORY TAX CLASS AT PRESENT  BLOCK  \\\n",
       "0  09 COOPS - WALKUP APARTMENTS                                   2   5329   \n",
       "1  02 TWO FAMILY DWELLINGS                                        1   5911   \n",
       "2  10 COOPS - ELEVATOR APARTMENTS                                 2   1512   \n",
       "3  03 THREE FAMILY DWELLINGS                                      1  16213   \n",
       "4  02 TWO FAMILY DWELLINGS                                        1   8304   \n",
       "\n",
       "   LOT                ADDRESS  ZIP CODE  RESIDENTIAL UNITS  COMMERCIAL UNITS  \\\n",
       "0   62  179 OCEAN PARKWAY, 3A     11218                  0                 0   \n",
       "1    8          7205 6 AVENUE     11209                  2                 0   \n",
       "2    1    983 PARK AVENUE, 3C     10028                  0                 0   \n",
       "3   16   241 BEACH 117 STREET     11694                  3                 0   \n",
       "4   28   245-71 61ST   AVENUE     11362                  2                 0   \n",
       "\n",
       "   TOTAL UNITS  LAND SQUARE FEET  YEAR BUILT  SALE PRICE  SALE DATE  \n",
       "0            0                 0        1923      389000   8/1/2017  \n",
       "1            2              2177        1910           0  5/30/2017  \n",
       "2            0                 0        1927     7600000  5/10/2017  \n",
       "3            3              4000        1905           0  5/12/2017  \n",
       "4            2              3600        1950      844180  6/27/2017  "
      ]
     },
     "execution_count": 18,
     "metadata": {},
     "output_type": "execute_result"
    }
   ],
   "source": [
    "df.head()\n"
   ]
  },
  {
   "cell_type": "code",
   "execution_count": 20,
   "id": "178291a3",
   "metadata": {},
   "outputs": [],
   "source": [
    "df[\"BBL_KEY\"] = df.apply(lambda row: create_bbl_key(row[\"BOROUGH\"], row[\"BLOCK\"], row[\"LOT\"]), axis=1)\n"
   ]
  },
  {
   "cell_type": "markdown",
   "id": "1c2509e1",
   "metadata": {},
   "source": [
    "After creating the \"BBL_KEY\" column, remove duplicate rows based on this column while keeping only the first occurrence of each unique \"BBL_KEY\". Save the data in a new dataframe."
   ]
  },
  {
   "cell_type": "code",
   "execution_count": 22,
   "id": "b83405ff",
   "metadata": {},
   "outputs": [
    {
     "data": {
      "text/html": [
       "<div>\n",
       "<style scoped>\n",
       "    .dataframe tbody tr th:only-of-type {\n",
       "        vertical-align: middle;\n",
       "    }\n",
       "\n",
       "    .dataframe tbody tr th {\n",
       "        vertical-align: top;\n",
       "    }\n",
       "\n",
       "    .dataframe thead th {\n",
       "        text-align: right;\n",
       "    }\n",
       "</style>\n",
       "<table border=\"1\" class=\"dataframe\">\n",
       "  <thead>\n",
       "    <tr style=\"text-align: right;\">\n",
       "      <th></th>\n",
       "      <th>BOROUGH</th>\n",
       "      <th>NEIGHBORHOOD</th>\n",
       "      <th>BUILDING CLASS CATEGORY</th>\n",
       "      <th>TAX CLASS AT PRESENT</th>\n",
       "      <th>BLOCK</th>\n",
       "      <th>LOT</th>\n",
       "      <th>ADDRESS</th>\n",
       "      <th>ZIP CODE</th>\n",
       "      <th>RESIDENTIAL UNITS</th>\n",
       "      <th>COMMERCIAL UNITS</th>\n",
       "      <th>TOTAL UNITS</th>\n",
       "      <th>LAND SQUARE FEET</th>\n",
       "      <th>YEAR BUILT</th>\n",
       "      <th>SALE PRICE</th>\n",
       "      <th>SALE DATE</th>\n",
       "      <th>BBL_KEY</th>\n",
       "    </tr>\n",
       "  </thead>\n",
       "  <tbody>\n",
       "    <tr>\n",
       "      <th>0</th>\n",
       "      <td>3</td>\n",
       "      <td>KENSINGTON</td>\n",
       "      <td>09 COOPS - WALKUP APARTMENTS</td>\n",
       "      <td>2</td>\n",
       "      <td>5329</td>\n",
       "      <td>62</td>\n",
       "      <td>179 OCEAN PARKWAY, 3A</td>\n",
       "      <td>11218</td>\n",
       "      <td>0</td>\n",
       "      <td>0</td>\n",
       "      <td>0</td>\n",
       "      <td>0</td>\n",
       "      <td>1923</td>\n",
       "      <td>389000</td>\n",
       "      <td>8/1/2017</td>\n",
       "      <td>3-5329-62</td>\n",
       "    </tr>\n",
       "    <tr>\n",
       "      <th>1</th>\n",
       "      <td>3</td>\n",
       "      <td>BAY RIDGE</td>\n",
       "      <td>02 TWO FAMILY DWELLINGS</td>\n",
       "      <td>1</td>\n",
       "      <td>5911</td>\n",
       "      <td>8</td>\n",
       "      <td>7205 6 AVENUE</td>\n",
       "      <td>11209</td>\n",
       "      <td>2</td>\n",
       "      <td>0</td>\n",
       "      <td>2</td>\n",
       "      <td>2177</td>\n",
       "      <td>1910</td>\n",
       "      <td>0</td>\n",
       "      <td>5/30/2017</td>\n",
       "      <td>3-5911-8</td>\n",
       "    </tr>\n",
       "    <tr>\n",
       "      <th>2</th>\n",
       "      <td>1</td>\n",
       "      <td>UPPER EAST SIDE (79-96)</td>\n",
       "      <td>10 COOPS - ELEVATOR APARTMENTS</td>\n",
       "      <td>2</td>\n",
       "      <td>1512</td>\n",
       "      <td>1</td>\n",
       "      <td>983 PARK AVENUE, 3C</td>\n",
       "      <td>10028</td>\n",
       "      <td>0</td>\n",
       "      <td>0</td>\n",
       "      <td>0</td>\n",
       "      <td>0</td>\n",
       "      <td>1927</td>\n",
       "      <td>7600000</td>\n",
       "      <td>5/10/2017</td>\n",
       "      <td>1-1512-1</td>\n",
       "    </tr>\n",
       "    <tr>\n",
       "      <th>3</th>\n",
       "      <td>4</td>\n",
       "      <td>ROCKAWAY PARK</td>\n",
       "      <td>03 THREE FAMILY DWELLINGS</td>\n",
       "      <td>1</td>\n",
       "      <td>16213</td>\n",
       "      <td>16</td>\n",
       "      <td>241 BEACH 117 STREET</td>\n",
       "      <td>11694</td>\n",
       "      <td>3</td>\n",
       "      <td>0</td>\n",
       "      <td>3</td>\n",
       "      <td>4000</td>\n",
       "      <td>1905</td>\n",
       "      <td>0</td>\n",
       "      <td>5/12/2017</td>\n",
       "      <td>4-16213-16</td>\n",
       "    </tr>\n",
       "    <tr>\n",
       "      <th>4</th>\n",
       "      <td>4</td>\n",
       "      <td>DOUGLASTON</td>\n",
       "      <td>02 TWO FAMILY DWELLINGS</td>\n",
       "      <td>1</td>\n",
       "      <td>8304</td>\n",
       "      <td>28</td>\n",
       "      <td>245-71 61ST   AVENUE</td>\n",
       "      <td>11362</td>\n",
       "      <td>2</td>\n",
       "      <td>0</td>\n",
       "      <td>2</td>\n",
       "      <td>3600</td>\n",
       "      <td>1950</td>\n",
       "      <td>844180</td>\n",
       "      <td>6/27/2017</td>\n",
       "      <td>4-8304-28</td>\n",
       "    </tr>\n",
       "  </tbody>\n",
       "</table>\n",
       "</div>"
      ],
      "text/plain": [
       "   BOROUGH             NEIGHBORHOOD  \\\n",
       "0        3               KENSINGTON   \n",
       "1        3                BAY RIDGE   \n",
       "2        1  UPPER EAST SIDE (79-96)   \n",
       "3        4            ROCKAWAY PARK   \n",
       "4        4               DOUGLASTON   \n",
       "\n",
       "                       BUILDING CLASS CATEGORY TAX CLASS AT PRESENT  BLOCK  \\\n",
       "0  09 COOPS - WALKUP APARTMENTS                                   2   5329   \n",
       "1  02 TWO FAMILY DWELLINGS                                        1   5911   \n",
       "2  10 COOPS - ELEVATOR APARTMENTS                                 2   1512   \n",
       "3  03 THREE FAMILY DWELLINGS                                      1  16213   \n",
       "4  02 TWO FAMILY DWELLINGS                                        1   8304   \n",
       "\n",
       "   LOT                ADDRESS  ZIP CODE  RESIDENTIAL UNITS  COMMERCIAL UNITS  \\\n",
       "0   62  179 OCEAN PARKWAY, 3A     11218                  0                 0   \n",
       "1    8          7205 6 AVENUE     11209                  2                 0   \n",
       "2    1    983 PARK AVENUE, 3C     10028                  0                 0   \n",
       "3   16   241 BEACH 117 STREET     11694                  3                 0   \n",
       "4   28   245-71 61ST   AVENUE     11362                  2                 0   \n",
       "\n",
       "   TOTAL UNITS  LAND SQUARE FEET  YEAR BUILT  SALE PRICE  SALE DATE  \\\n",
       "0            0                 0        1923      389000   8/1/2017   \n",
       "1            2              2177        1910           0  5/30/2017   \n",
       "2            0                 0        1927     7600000  5/10/2017   \n",
       "3            3              4000        1905           0  5/12/2017   \n",
       "4            2              3600        1950      844180  6/27/2017   \n",
       "\n",
       "      BBL_KEY  \n",
       "0   3-5329-62  \n",
       "1    3-5911-8  \n",
       "2    1-1512-1  \n",
       "3  4-16213-16  \n",
       "4   4-8304-28  "
      ]
     },
     "execution_count": 22,
     "metadata": {},
     "output_type": "execute_result"
    }
   ],
   "source": [
    "df.head()\n"
   ]
  },
  {
   "cell_type": "markdown",
   "id": "5be54580",
   "metadata": {
    "id": "5be54580"
   },
   "source": [
    "Now answer the the questions after clean the data\n",
    "\n",
    "Read this - BOROUGH: A digit code for the borough the property is located in; in order these are Manhattan (1), Bronx (2), Brooklyn (3), Queens (4), and Staten Island (5).\n",
    "\n",
    "After reading answers the following questions :-\n",
    "1. How many property is located in Manhattan (1).\n",
    "2. How many property is located in Bronx (2).\n",
    "3. How many property is located in Brooklyn (3).\n",
    "4. How many property is located in Queens (4).\n",
    "5. How many property is located in Staten Island (5)."
   ]
  },
  {
   "cell_type": "code",
   "execution_count": 24,
   "id": "796e3916",
   "metadata": {
    "id": "796e3916"
   },
   "outputs": [
    {
     "data": {
      "text/html": [
       "<div>\n",
       "<style scoped>\n",
       "    .dataframe tbody tr th:only-of-type {\n",
       "        vertical-align: middle;\n",
       "    }\n",
       "\n",
       "    .dataframe tbody tr th {\n",
       "        vertical-align: top;\n",
       "    }\n",
       "\n",
       "    .dataframe thead th {\n",
       "        text-align: right;\n",
       "    }\n",
       "</style>\n",
       "<table border=\"1\" class=\"dataframe\">\n",
       "  <thead>\n",
       "    <tr style=\"text-align: right;\">\n",
       "      <th></th>\n",
       "      <th>BOROUGH</th>\n",
       "      <th>NEIGHBORHOOD</th>\n",
       "      <th>BUILDING CLASS CATEGORY</th>\n",
       "      <th>TAX CLASS AT PRESENT</th>\n",
       "      <th>BLOCK</th>\n",
       "      <th>LOT</th>\n",
       "      <th>ADDRESS</th>\n",
       "      <th>ZIP CODE</th>\n",
       "      <th>RESIDENTIAL UNITS</th>\n",
       "      <th>COMMERCIAL UNITS</th>\n",
       "      <th>TOTAL UNITS</th>\n",
       "      <th>LAND SQUARE FEET</th>\n",
       "      <th>YEAR BUILT</th>\n",
       "      <th>SALE PRICE</th>\n",
       "      <th>SALE DATE</th>\n",
       "      <th>BBL_KEY</th>\n",
       "    </tr>\n",
       "  </thead>\n",
       "  <tbody>\n",
       "    <tr>\n",
       "      <th>0</th>\n",
       "      <td>3</td>\n",
       "      <td>KENSINGTON</td>\n",
       "      <td>09 COOPS - WALKUP APARTMENTS</td>\n",
       "      <td>2</td>\n",
       "      <td>5329</td>\n",
       "      <td>62</td>\n",
       "      <td>179 OCEAN PARKWAY, 3A</td>\n",
       "      <td>11218</td>\n",
       "      <td>0</td>\n",
       "      <td>0</td>\n",
       "      <td>0</td>\n",
       "      <td>0</td>\n",
       "      <td>1923</td>\n",
       "      <td>389000</td>\n",
       "      <td>8/1/2017</td>\n",
       "      <td>3-5329-62</td>\n",
       "    </tr>\n",
       "    <tr>\n",
       "      <th>1</th>\n",
       "      <td>3</td>\n",
       "      <td>BAY RIDGE</td>\n",
       "      <td>02 TWO FAMILY DWELLINGS</td>\n",
       "      <td>1</td>\n",
       "      <td>5911</td>\n",
       "      <td>8</td>\n",
       "      <td>7205 6 AVENUE</td>\n",
       "      <td>11209</td>\n",
       "      <td>2</td>\n",
       "      <td>0</td>\n",
       "      <td>2</td>\n",
       "      <td>2177</td>\n",
       "      <td>1910</td>\n",
       "      <td>0</td>\n",
       "      <td>5/30/2017</td>\n",
       "      <td>3-5911-8</td>\n",
       "    </tr>\n",
       "    <tr>\n",
       "      <th>2</th>\n",
       "      <td>1</td>\n",
       "      <td>UPPER EAST SIDE (79-96)</td>\n",
       "      <td>10 COOPS - ELEVATOR APARTMENTS</td>\n",
       "      <td>2</td>\n",
       "      <td>1512</td>\n",
       "      <td>1</td>\n",
       "      <td>983 PARK AVENUE, 3C</td>\n",
       "      <td>10028</td>\n",
       "      <td>0</td>\n",
       "      <td>0</td>\n",
       "      <td>0</td>\n",
       "      <td>0</td>\n",
       "      <td>1927</td>\n",
       "      <td>7600000</td>\n",
       "      <td>5/10/2017</td>\n",
       "      <td>1-1512-1</td>\n",
       "    </tr>\n",
       "    <tr>\n",
       "      <th>3</th>\n",
       "      <td>4</td>\n",
       "      <td>ROCKAWAY PARK</td>\n",
       "      <td>03 THREE FAMILY DWELLINGS</td>\n",
       "      <td>1</td>\n",
       "      <td>16213</td>\n",
       "      <td>16</td>\n",
       "      <td>241 BEACH 117 STREET</td>\n",
       "      <td>11694</td>\n",
       "      <td>3</td>\n",
       "      <td>0</td>\n",
       "      <td>3</td>\n",
       "      <td>4000</td>\n",
       "      <td>1905</td>\n",
       "      <td>0</td>\n",
       "      <td>5/12/2017</td>\n",
       "      <td>4-16213-16</td>\n",
       "    </tr>\n",
       "    <tr>\n",
       "      <th>4</th>\n",
       "      <td>4</td>\n",
       "      <td>DOUGLASTON</td>\n",
       "      <td>02 TWO FAMILY DWELLINGS</td>\n",
       "      <td>1</td>\n",
       "      <td>8304</td>\n",
       "      <td>28</td>\n",
       "      <td>245-71 61ST   AVENUE</td>\n",
       "      <td>11362</td>\n",
       "      <td>2</td>\n",
       "      <td>0</td>\n",
       "      <td>2</td>\n",
       "      <td>3600</td>\n",
       "      <td>1950</td>\n",
       "      <td>844180</td>\n",
       "      <td>6/27/2017</td>\n",
       "      <td>4-8304-28</td>\n",
       "    </tr>\n",
       "  </tbody>\n",
       "</table>\n",
       "</div>"
      ],
      "text/plain": [
       "   BOROUGH             NEIGHBORHOOD  \\\n",
       "0        3               KENSINGTON   \n",
       "1        3                BAY RIDGE   \n",
       "2        1  UPPER EAST SIDE (79-96)   \n",
       "3        4            ROCKAWAY PARK   \n",
       "4        4               DOUGLASTON   \n",
       "\n",
       "                       BUILDING CLASS CATEGORY TAX CLASS AT PRESENT  BLOCK  \\\n",
       "0  09 COOPS - WALKUP APARTMENTS                                   2   5329   \n",
       "1  02 TWO FAMILY DWELLINGS                                        1   5911   \n",
       "2  10 COOPS - ELEVATOR APARTMENTS                                 2   1512   \n",
       "3  03 THREE FAMILY DWELLINGS                                      1  16213   \n",
       "4  02 TWO FAMILY DWELLINGS                                        1   8304   \n",
       "\n",
       "   LOT                ADDRESS  ZIP CODE  RESIDENTIAL UNITS  COMMERCIAL UNITS  \\\n",
       "0   62  179 OCEAN PARKWAY, 3A     11218                  0                 0   \n",
       "1    8          7205 6 AVENUE     11209                  2                 0   \n",
       "2    1    983 PARK AVENUE, 3C     10028                  0                 0   \n",
       "3   16   241 BEACH 117 STREET     11694                  3                 0   \n",
       "4   28   245-71 61ST   AVENUE     11362                  2                 0   \n",
       "\n",
       "   TOTAL UNITS  LAND SQUARE FEET  YEAR BUILT  SALE PRICE  SALE DATE  \\\n",
       "0            0                 0        1923      389000   8/1/2017   \n",
       "1            2              2177        1910           0  5/30/2017   \n",
       "2            0                 0        1927     7600000  5/10/2017   \n",
       "3            3              4000        1905           0  5/12/2017   \n",
       "4            2              3600        1950      844180  6/27/2017   \n",
       "\n",
       "      BBL_KEY  \n",
       "0   3-5329-62  \n",
       "1    3-5911-8  \n",
       "2    1-1512-1  \n",
       "3  4-16213-16  \n",
       "4   4-8304-28  "
      ]
     },
     "execution_count": 24,
     "metadata": {},
     "output_type": "execute_result"
    }
   ],
   "source": [
    "df.head()"
   ]
  },
  {
   "cell_type": "code",
   "execution_count": 26,
   "id": "769ddf9b",
   "metadata": {
    "id": "769ddf9b"
   },
   "outputs": [
    {
     "name": "stdout",
     "output_type": "stream",
     "text": [
      "Index(['BOROUGH', 'NEIGHBORHOOD', 'BUILDING CLASS CATEGORY',\n",
      "       'TAX CLASS AT PRESENT', 'BLOCK', 'LOT', 'ADDRESS', 'ZIP CODE',\n",
      "       'RESIDENTIAL UNITS', 'COMMERCIAL UNITS', 'TOTAL UNITS',\n",
      "       'LAND SQUARE FEET', 'YEAR BUILT', 'SALE PRICE', 'SALE DATE', 'BBL_KEY'],\n",
      "      dtype='object')\n"
     ]
    }
   ],
   "source": [
    "print(df.columns)"
   ]
  },
  {
   "cell_type": "code",
   "execution_count": 28,
   "id": "b6b68d47",
   "metadata": {
    "id": "b6b68d47"
   },
   "outputs": [],
   "source": [
    "borough_counts = df[\"BOROUGH\"].value_counts()\n"
   ]
  },
  {
   "cell_type": "code",
   "execution_count": 30,
   "id": "ecc71dc8-98c8-4c8f-977c-c9586cdeb667",
   "metadata": {},
   "outputs": [
    {
     "name": "stdout",
     "output_type": "stream",
     "text": [
      "Properties in each borough:\n",
      "Manhattan (1): 803\n",
      "Bronx (2): 306\n",
      "Brooklyn (3): 1026\n",
      "Queens (4): 1097\n",
      "Staten Island (5): 347\n"
     ]
    }
   ],
   "source": [
    "print(\"Properties in each borough:\")\n",
    "print(f\"Manhattan (1): {borough_counts.get(1, 0)}\")\n",
    "print(f\"Bronx (2): {borough_counts.get(2, 0)}\")\n",
    "print(f\"Brooklyn (3): {borough_counts.get(3, 0)}\")\n",
    "print(f\"Queens (4): {borough_counts.get(4, 0)}\")\n",
    "print(f\"Staten Island (5): {borough_counts.get(5, 0)}\")"
   ]
  },
  {
   "cell_type": "markdown",
   "id": "ee09311b",
   "metadata": {
    "id": "ee09311b"
   },
   "source": [
    "1. How many property have more than 60 RESIDENTIAL UNITS.\n",
    "2. How many property have 10 COMMERCIAL UNITS.\n",
    "3. How many property have 300 TOTAL UNITS.\n",
    "4. How many property have at least 40 RESIDENTIAL UNITS as well as at least 10 COMMERCIAL UNITS.\n",
    "5. How many property have zero RESIDENTIAL UNITS.\n",
    "6. How many property have zero COMMERCIAL UNITS."
   ]
  },
  {
   "cell_type": "code",
   "execution_count": 32,
   "id": "5e1ff679",
   "metadata": {
    "id": "5e1ff679"
   },
   "outputs": [
    {
     "data": {
      "text/html": [
       "<div>\n",
       "<style scoped>\n",
       "    .dataframe tbody tr th:only-of-type {\n",
       "        vertical-align: middle;\n",
       "    }\n",
       "\n",
       "    .dataframe tbody tr th {\n",
       "        vertical-align: top;\n",
       "    }\n",
       "\n",
       "    .dataframe thead th {\n",
       "        text-align: right;\n",
       "    }\n",
       "</style>\n",
       "<table border=\"1\" class=\"dataframe\">\n",
       "  <thead>\n",
       "    <tr style=\"text-align: right;\">\n",
       "      <th></th>\n",
       "      <th>BOROUGH</th>\n",
       "      <th>NEIGHBORHOOD</th>\n",
       "      <th>BUILDING CLASS CATEGORY</th>\n",
       "      <th>TAX CLASS AT PRESENT</th>\n",
       "      <th>BLOCK</th>\n",
       "      <th>LOT</th>\n",
       "      <th>ADDRESS</th>\n",
       "      <th>ZIP CODE</th>\n",
       "      <th>RESIDENTIAL UNITS</th>\n",
       "      <th>COMMERCIAL UNITS</th>\n",
       "      <th>TOTAL UNITS</th>\n",
       "      <th>LAND SQUARE FEET</th>\n",
       "      <th>YEAR BUILT</th>\n",
       "      <th>SALE PRICE</th>\n",
       "      <th>SALE DATE</th>\n",
       "      <th>BBL_KEY</th>\n",
       "    </tr>\n",
       "  </thead>\n",
       "  <tbody>\n",
       "    <tr>\n",
       "      <th>0</th>\n",
       "      <td>3</td>\n",
       "      <td>KENSINGTON</td>\n",
       "      <td>09 COOPS - WALKUP APARTMENTS</td>\n",
       "      <td>2</td>\n",
       "      <td>5329</td>\n",
       "      <td>62</td>\n",
       "      <td>179 OCEAN PARKWAY, 3A</td>\n",
       "      <td>11218</td>\n",
       "      <td>0</td>\n",
       "      <td>0</td>\n",
       "      <td>0</td>\n",
       "      <td>0</td>\n",
       "      <td>1923</td>\n",
       "      <td>389000</td>\n",
       "      <td>8/1/2017</td>\n",
       "      <td>3-5329-62</td>\n",
       "    </tr>\n",
       "    <tr>\n",
       "      <th>1</th>\n",
       "      <td>3</td>\n",
       "      <td>BAY RIDGE</td>\n",
       "      <td>02 TWO FAMILY DWELLINGS</td>\n",
       "      <td>1</td>\n",
       "      <td>5911</td>\n",
       "      <td>8</td>\n",
       "      <td>7205 6 AVENUE</td>\n",
       "      <td>11209</td>\n",
       "      <td>2</td>\n",
       "      <td>0</td>\n",
       "      <td>2</td>\n",
       "      <td>2177</td>\n",
       "      <td>1910</td>\n",
       "      <td>0</td>\n",
       "      <td>5/30/2017</td>\n",
       "      <td>3-5911-8</td>\n",
       "    </tr>\n",
       "    <tr>\n",
       "      <th>2</th>\n",
       "      <td>1</td>\n",
       "      <td>UPPER EAST SIDE (79-96)</td>\n",
       "      <td>10 COOPS - ELEVATOR APARTMENTS</td>\n",
       "      <td>2</td>\n",
       "      <td>1512</td>\n",
       "      <td>1</td>\n",
       "      <td>983 PARK AVENUE, 3C</td>\n",
       "      <td>10028</td>\n",
       "      <td>0</td>\n",
       "      <td>0</td>\n",
       "      <td>0</td>\n",
       "      <td>0</td>\n",
       "      <td>1927</td>\n",
       "      <td>7600000</td>\n",
       "      <td>5/10/2017</td>\n",
       "      <td>1-1512-1</td>\n",
       "    </tr>\n",
       "    <tr>\n",
       "      <th>3</th>\n",
       "      <td>4</td>\n",
       "      <td>ROCKAWAY PARK</td>\n",
       "      <td>03 THREE FAMILY DWELLINGS</td>\n",
       "      <td>1</td>\n",
       "      <td>16213</td>\n",
       "      <td>16</td>\n",
       "      <td>241 BEACH 117 STREET</td>\n",
       "      <td>11694</td>\n",
       "      <td>3</td>\n",
       "      <td>0</td>\n",
       "      <td>3</td>\n",
       "      <td>4000</td>\n",
       "      <td>1905</td>\n",
       "      <td>0</td>\n",
       "      <td>5/12/2017</td>\n",
       "      <td>4-16213-16</td>\n",
       "    </tr>\n",
       "    <tr>\n",
       "      <th>4</th>\n",
       "      <td>4</td>\n",
       "      <td>DOUGLASTON</td>\n",
       "      <td>02 TWO FAMILY DWELLINGS</td>\n",
       "      <td>1</td>\n",
       "      <td>8304</td>\n",
       "      <td>28</td>\n",
       "      <td>245-71 61ST   AVENUE</td>\n",
       "      <td>11362</td>\n",
       "      <td>2</td>\n",
       "      <td>0</td>\n",
       "      <td>2</td>\n",
       "      <td>3600</td>\n",
       "      <td>1950</td>\n",
       "      <td>844180</td>\n",
       "      <td>6/27/2017</td>\n",
       "      <td>4-8304-28</td>\n",
       "    </tr>\n",
       "  </tbody>\n",
       "</table>\n",
       "</div>"
      ],
      "text/plain": [
       "   BOROUGH             NEIGHBORHOOD  \\\n",
       "0        3               KENSINGTON   \n",
       "1        3                BAY RIDGE   \n",
       "2        1  UPPER EAST SIDE (79-96)   \n",
       "3        4            ROCKAWAY PARK   \n",
       "4        4               DOUGLASTON   \n",
       "\n",
       "                       BUILDING CLASS CATEGORY TAX CLASS AT PRESENT  BLOCK  \\\n",
       "0  09 COOPS - WALKUP APARTMENTS                                   2   5329   \n",
       "1  02 TWO FAMILY DWELLINGS                                        1   5911   \n",
       "2  10 COOPS - ELEVATOR APARTMENTS                                 2   1512   \n",
       "3  03 THREE FAMILY DWELLINGS                                      1  16213   \n",
       "4  02 TWO FAMILY DWELLINGS                                        1   8304   \n",
       "\n",
       "   LOT                ADDRESS  ZIP CODE  RESIDENTIAL UNITS  COMMERCIAL UNITS  \\\n",
       "0   62  179 OCEAN PARKWAY, 3A     11218                  0                 0   \n",
       "1    8          7205 6 AVENUE     11209                  2                 0   \n",
       "2    1    983 PARK AVENUE, 3C     10028                  0                 0   \n",
       "3   16   241 BEACH 117 STREET     11694                  3                 0   \n",
       "4   28   245-71 61ST   AVENUE     11362                  2                 0   \n",
       "\n",
       "   TOTAL UNITS  LAND SQUARE FEET  YEAR BUILT  SALE PRICE  SALE DATE  \\\n",
       "0            0                 0        1923      389000   8/1/2017   \n",
       "1            2              2177        1910           0  5/30/2017   \n",
       "2            0                 0        1927     7600000  5/10/2017   \n",
       "3            3              4000        1905           0  5/12/2017   \n",
       "4            2              3600        1950      844180  6/27/2017   \n",
       "\n",
       "      BBL_KEY  \n",
       "0   3-5329-62  \n",
       "1    3-5911-8  \n",
       "2    1-1512-1  \n",
       "3  4-16213-16  \n",
       "4   4-8304-28  "
      ]
     },
     "execution_count": 32,
     "metadata": {},
     "output_type": "execute_result"
    }
   ],
   "source": [
    "df.head()"
   ]
  },
  {
   "cell_type": "code",
   "execution_count": 63,
   "id": "1a80e668-f6e5-46d2-8df2-6612e78d1e20",
   "metadata": {},
   "outputs": [],
   "source": [
    "pivot_table = df.pivot_table(\n",
    "    index=\"BOROUGH\", \n",
    "    values=[\"RESIDENTIAL UNITS\", \"COMMERCIAL UNITS\", \"TOTAL UNITS\"],\n",
    "    aggfunc=\"sum\"\n",
    ")\n",
    "\n",
    "\n"
   ]
  },
  {
   "cell_type": "code",
   "execution_count": 65,
   "id": "f0c8c0bf-e6d7-4dda-b91d-118e2744a752",
   "metadata": {},
   "outputs": [
    {
     "name": "stdout",
     "output_type": "stream",
     "text": [
      "         COMMERCIAL UNITS  RESIDENTIAL UNITS  TOTAL UNITS\n",
      "BOROUGH                                                  \n",
      "1                     114               1692         1845\n",
      "2                      28                762          793\n",
      "3                     297               1856         2182\n",
      "4                      88               3495         3618\n",
      "5                      23                391          416\n"
     ]
    }
   ],
   "source": [
    "print(pivot_table)"
   ]
  },
  {
   "cell_type": "code",
   "execution_count": 67,
   "id": "d6045305-8f8e-4b75-9192-2e5504278654",
   "metadata": {},
   "outputs": [
    {
     "name": "stdout",
     "output_type": "stream",
     "text": [
      "Properties with more than 60 residential units: 10\n"
     ]
    }
   ],
   "source": [
    "more_than_60_residential = df[df[\"RESIDENTIAL UNITS\"] > 60]\n",
    "print(\"Properties with more than 60 residential units:\", len(more_than_60_residential))\n"
   ]
  },
  {
   "cell_type": "code",
   "execution_count": 69,
   "id": "64a070b4-b05d-4729-ade2-97f2f66ddcd5",
   "metadata": {},
   "outputs": [
    {
     "name": "stdout",
     "output_type": "stream",
     "text": [
      "Properties with exactly 10 commercial units: 0\n"
     ]
    }
   ],
   "source": [
    "exactly_10_commercial = df[df[\"COMMERCIAL UNITS\"] == 10]\n",
    "print(\"Properties with exactly 10 commercial units:\", len(exactly_10_commercial))\n"
   ]
  },
  {
   "cell_type": "code",
   "execution_count": 71,
   "id": "f885a30b-56c1-4dfe-a04c-4015c6fb0106",
   "metadata": {},
   "outputs": [
    {
     "name": "stdout",
     "output_type": "stream",
     "text": [
      "Properties with exactly 300 total units: 0\n"
     ]
    }
   ],
   "source": [
    "exactly_300_total = df[df[\"TOTAL UNITS\"] == 300]\n",
    "print(\"Properties with exactly 300 total units:\", len(exactly_300_total))\n"
   ]
  },
  {
   "cell_type": "code",
   "execution_count": 73,
   "id": "ec687934-27ab-4e80-b73d-b3ef57453722",
   "metadata": {},
   "outputs": [
    {
     "name": "stdout",
     "output_type": "stream",
     "text": [
      "Properties with at least 40 residential and 10 commercial units: 1\n"
     ]
    }
   ],
   "source": [
    "res_40_com_10 = df[(df[\"RESIDENTIAL UNITS\"] >= 40) & (df[\"COMMERCIAL UNITS\"] >= 10)]\n",
    "print(\"Properties with at least 40 residential and 10 commercial units:\", len(res_40_com_10))\n"
   ]
  },
  {
   "cell_type": "code",
   "execution_count": 75,
   "id": "5ad5a4f5-95d0-4d67-86a6-e0d1963e565e",
   "metadata": {},
   "outputs": [
    {
     "name": "stdout",
     "output_type": "stream",
     "text": [
      "Properties with zero residential units: 1053\n"
     ]
    }
   ],
   "source": [
    "zero_residential = df[df[\"RESIDENTIAL UNITS\"] == 0]\n",
    "print(\"Properties with zero residential units:\", len(zero_residential))\n"
   ]
  },
  {
   "cell_type": "code",
   "execution_count": 77,
   "id": "3185215e-f925-4559-8d21-5e856edac7b4",
   "metadata": {},
   "outputs": [
    {
     "name": "stdout",
     "output_type": "stream",
     "text": [
      "Properties with zero commercial units: 3382\n"
     ]
    }
   ],
   "source": [
    "zero_commercial = df[df[\"COMMERCIAL UNITS\"] == 0]\n",
    "print(\"Properties with zero commercial units:\", len(zero_commercial))\n"
   ]
  },
  {
   "cell_type": "markdown",
   "id": "39163193",
   "metadata": {
    "id": "39163193"
   },
   "source": [
    "How many Property have zero SALE PRICE"
   ]
  },
  {
   "cell_type": "code",
   "execution_count": 81,
   "id": "97bcf33e-17fa-4a46-ab6f-2da58ac383c6",
   "metadata": {},
   "outputs": [],
   "source": [
    "df[\"SALE PRICE\"] = pd.to_numeric(df[\"SALE PRICE\"], errors='coerce') #here i'm converting \"SALE PRICE\" to numeric in case it's stored as a string."
   ]
  },
  {
   "cell_type": "code",
   "execution_count": 83,
   "id": "e8d185a9-6c3e-404a-bc41-8640557d4d20",
   "metadata": {},
   "outputs": [],
   "source": [
    "zero_sale_price_count = len(df[df[\"SALE PRICE\"] == 0])"
   ]
  },
  {
   "cell_type": "code",
   "execution_count": 85,
   "id": "1606c1d0-327b-4816-ba21-36aeba689c37",
   "metadata": {},
   "outputs": [
    {
     "name": "stdout",
     "output_type": "stream",
     "text": [
      "Number of properties with zero SALE PRICE: 1023\n"
     ]
    }
   ],
   "source": [
    "print(\"Number of properties with zero SALE PRICE:\", zero_sale_price_count)"
   ]
  },
  {
   "cell_type": "markdown",
   "id": "5ea7a2b5",
   "metadata": {
    "id": "5ea7a2b5"
   },
   "source": [
    "How many property have more than 10000 LAND SQUARE FEET and build befor 1970"
   ]
  },
  {
   "cell_type": "code",
   "execution_count": 87,
   "id": "da9509e2",
   "metadata": {
    "id": "da9509e2"
   },
   "outputs": [],
   "source": [
    "df[\"LAND SQUARE FEET\"] = pd.to_numeric(df[\"LAND SQUARE FEET\"], errors='coerce')\n",
    "df[\"YEAR BUILT\"] = pd.to_numeric(df[\"YEAR BUILT\"], errors='coerce')"
   ]
  },
  {
   "cell_type": "code",
   "execution_count": 89,
   "id": "71e76e19-4cf0-4637-97bd-c56aea4e4941",
   "metadata": {},
   "outputs": [],
   "source": [
    "filtered_df = df[(df[\"LAND SQUARE FEET\"] > 10000) & (df[\"YEAR BUILT\"] < 1970)]"
   ]
  },
  {
   "cell_type": "code",
   "execution_count": 91,
   "id": "6d8d225c-0791-4b01-8423-7c9faec79c21",
   "metadata": {},
   "outputs": [],
   "source": [
    "property_count = len(filtered_df)\n"
   ]
  },
  {
   "cell_type": "code",
   "execution_count": 93,
   "id": "0855580c-7bd6-4949-aae9-5d57fedae5d8",
   "metadata": {},
   "outputs": [
    {
     "name": "stdout",
     "output_type": "stream",
     "text": [
      "Number of properties with more than 10,000 LAND SQUARE FEET and built before 1970: 46\n"
     ]
    }
   ],
   "source": [
    "print(f\"Number of properties with more than 10,000 LAND SQUARE FEET and built before 1970: {property_count}\")"
   ]
  },
  {
   "cell_type": "markdown",
   "id": "ee42ad01",
   "metadata": {
    "id": "ee42ad01"
   },
   "source": [
    "How many total properties have \"1A\", \"2A\" `TAX CLASS AT PRESENT` respectively also have at least 1 million dollar `SALE PRICE`"
   ]
  },
  {
   "cell_type": "code",
   "execution_count": 118,
   "id": "d3ab8168-0f85-463f-afc4-ed57bd28af91",
   "metadata": {},
   "outputs": [],
   "source": [
    "import pandas as pd\n"
   ]
  },
  {
   "cell_type": "code",
   "execution_count": 120,
   "id": "b4b3b2a8-e785-4449-81c0-4352b6b88535",
   "metadata": {},
   "outputs": [],
   "source": [
    "df = pd.read_csv('sales.csv')"
   ]
  },
  {
   "cell_type": "code",
   "execution_count": 122,
   "id": "5b5fee57-2361-4fb7-95c1-a6a7e96bc878",
   "metadata": {},
   "outputs": [
    {
     "data": {
      "text/html": [
       "<div>\n",
       "<style scoped>\n",
       "    .dataframe tbody tr th:only-of-type {\n",
       "        vertical-align: middle;\n",
       "    }\n",
       "\n",
       "    .dataframe tbody tr th {\n",
       "        vertical-align: top;\n",
       "    }\n",
       "\n",
       "    .dataframe thead th {\n",
       "        text-align: right;\n",
       "    }\n",
       "</style>\n",
       "<table border=\"1\" class=\"dataframe\">\n",
       "  <thead>\n",
       "    <tr style=\"text-align: right;\">\n",
       "      <th></th>\n",
       "      <th>BOROUGH</th>\n",
       "      <th>NEIGHBORHOOD</th>\n",
       "      <th>BUILDING CLASS CATEGORY</th>\n",
       "      <th>TAX CLASS AT PRESENT</th>\n",
       "      <th>BLOCK</th>\n",
       "      <th>LOT</th>\n",
       "      <th>ADDRESS</th>\n",
       "      <th>ZIP CODE</th>\n",
       "      <th>RESIDENTIAL UNITS</th>\n",
       "      <th>COMMERCIAL UNITS</th>\n",
       "      <th>TOTAL UNITS</th>\n",
       "      <th>LAND SQUARE FEET</th>\n",
       "      <th>YEAR BUILT</th>\n",
       "      <th>SALE PRICE</th>\n",
       "      <th>SALE DATE</th>\n",
       "    </tr>\n",
       "  </thead>\n",
       "  <tbody>\n",
       "    <tr>\n",
       "      <th>0</th>\n",
       "      <td>3</td>\n",
       "      <td>KENSINGTON</td>\n",
       "      <td>09 COOPS - WALKUP APARTMENTS</td>\n",
       "      <td>2</td>\n",
       "      <td>5329</td>\n",
       "      <td>62</td>\n",
       "      <td>179 OCEAN PARKWAY, 3A</td>\n",
       "      <td>11218</td>\n",
       "      <td>0</td>\n",
       "      <td>0</td>\n",
       "      <td>0</td>\n",
       "      <td>0</td>\n",
       "      <td>1923</td>\n",
       "      <td>389000</td>\n",
       "      <td>8/1/2017</td>\n",
       "    </tr>\n",
       "    <tr>\n",
       "      <th>1</th>\n",
       "      <td>3</td>\n",
       "      <td>BAY RIDGE</td>\n",
       "      <td>02 TWO FAMILY DWELLINGS</td>\n",
       "      <td>1</td>\n",
       "      <td>5911</td>\n",
       "      <td>8</td>\n",
       "      <td>7205 6 AVENUE</td>\n",
       "      <td>11209</td>\n",
       "      <td>2</td>\n",
       "      <td>0</td>\n",
       "      <td>2</td>\n",
       "      <td>2177</td>\n",
       "      <td>1910</td>\n",
       "      <td>0</td>\n",
       "      <td>5/30/2017</td>\n",
       "    </tr>\n",
       "    <tr>\n",
       "      <th>2</th>\n",
       "      <td>1</td>\n",
       "      <td>UPPER EAST SIDE (79-96)</td>\n",
       "      <td>10 COOPS - ELEVATOR APARTMENTS</td>\n",
       "      <td>2</td>\n",
       "      <td>1512</td>\n",
       "      <td>1</td>\n",
       "      <td>983 PARK AVENUE, 3C</td>\n",
       "      <td>10028</td>\n",
       "      <td>0</td>\n",
       "      <td>0</td>\n",
       "      <td>0</td>\n",
       "      <td>0</td>\n",
       "      <td>1927</td>\n",
       "      <td>7600000</td>\n",
       "      <td>5/10/2017</td>\n",
       "    </tr>\n",
       "    <tr>\n",
       "      <th>3</th>\n",
       "      <td>4</td>\n",
       "      <td>ROCKAWAY PARK</td>\n",
       "      <td>03 THREE FAMILY DWELLINGS</td>\n",
       "      <td>1</td>\n",
       "      <td>16213</td>\n",
       "      <td>16</td>\n",
       "      <td>241 BEACH 117 STREET</td>\n",
       "      <td>11694</td>\n",
       "      <td>3</td>\n",
       "      <td>0</td>\n",
       "      <td>3</td>\n",
       "      <td>4000</td>\n",
       "      <td>1905</td>\n",
       "      <td>0</td>\n",
       "      <td>5/12/2017</td>\n",
       "    </tr>\n",
       "    <tr>\n",
       "      <th>4</th>\n",
       "      <td>4</td>\n",
       "      <td>DOUGLASTON</td>\n",
       "      <td>02 TWO FAMILY DWELLINGS</td>\n",
       "      <td>1</td>\n",
       "      <td>8304</td>\n",
       "      <td>28</td>\n",
       "      <td>245-71 61ST   AVENUE</td>\n",
       "      <td>11362</td>\n",
       "      <td>2</td>\n",
       "      <td>0</td>\n",
       "      <td>2</td>\n",
       "      <td>3600</td>\n",
       "      <td>1950</td>\n",
       "      <td>844180</td>\n",
       "      <td>6/27/2017</td>\n",
       "    </tr>\n",
       "  </tbody>\n",
       "</table>\n",
       "</div>"
      ],
      "text/plain": [
       "   BOROUGH             NEIGHBORHOOD  \\\n",
       "0        3               KENSINGTON   \n",
       "1        3                BAY RIDGE   \n",
       "2        1  UPPER EAST SIDE (79-96)   \n",
       "3        4            ROCKAWAY PARK   \n",
       "4        4               DOUGLASTON   \n",
       "\n",
       "                       BUILDING CLASS CATEGORY TAX CLASS AT PRESENT  BLOCK  \\\n",
       "0  09 COOPS - WALKUP APARTMENTS                                   2   5329   \n",
       "1  02 TWO FAMILY DWELLINGS                                        1   5911   \n",
       "2  10 COOPS - ELEVATOR APARTMENTS                                 2   1512   \n",
       "3  03 THREE FAMILY DWELLINGS                                      1  16213   \n",
       "4  02 TWO FAMILY DWELLINGS                                        1   8304   \n",
       "\n",
       "   LOT                ADDRESS  ZIP CODE  RESIDENTIAL UNITS  COMMERCIAL UNITS  \\\n",
       "0   62  179 OCEAN PARKWAY, 3A     11218                  0                 0   \n",
       "1    8          7205 6 AVENUE     11209                  2                 0   \n",
       "2    1    983 PARK AVENUE, 3C     10028                  0                 0   \n",
       "3   16   241 BEACH 117 STREET     11694                  3                 0   \n",
       "4   28   245-71 61ST   AVENUE     11362                  2                 0   \n",
       "\n",
       "   TOTAL UNITS  LAND SQUARE FEET  YEAR BUILT  SALE PRICE  SALE DATE  \n",
       "0            0                 0        1923      389000   8/1/2017  \n",
       "1            2              2177        1910           0  5/30/2017  \n",
       "2            0                 0        1927     7600000  5/10/2017  \n",
       "3            3              4000        1905           0  5/12/2017  \n",
       "4            2              3600        1950      844180  6/27/2017  "
      ]
     },
     "execution_count": 122,
     "metadata": {},
     "output_type": "execute_result"
    }
   ],
   "source": [
    "df.head()"
   ]
  },
  {
   "cell_type": "code",
   "execution_count": 124,
   "id": "b0ccd9e0-efd7-495a-b94d-8872b24c40ec",
   "metadata": {},
   "outputs": [
    {
     "name": "stdout",
     "output_type": "stream",
     "text": [
      "Index(['BOROUGH', 'NEIGHBORHOOD', 'BUILDING CLASS CATEGORY',\n",
      "       'TAX CLASS AT PRESENT', 'BLOCK', 'LOT', 'ADDRESS', 'ZIP CODE',\n",
      "       'RESIDENTIAL UNITS', 'COMMERCIAL UNITS', 'TOTAL UNITS',\n",
      "       'LAND SQUARE FEET', 'YEAR BUILT', 'SALE PRICE', 'SALE DATE'],\n",
      "      dtype='object')\n"
     ]
    }
   ],
   "source": [
    "print(df.columns)\n"
   ]
  },
  {
   "cell_type": "code",
   "execution_count": 126,
   "id": "af26c130-1c65-4dc9-8865-1f66948d65a5",
   "metadata": {},
   "outputs": [],
   "source": [
    "pivot_table = filtered_df.pivot_table(\n",
    "    index=\"TAX CLASS AT PRESENT\",\n",
    "    values=\"SALE PRICE\",\n",
    "    aggfunc=\"count\"\n",
    ").rename(columns={\"SALE PRICE\": \"Total Properties\"})\n"
   ]
  },
  {
   "cell_type": "code",
   "execution_count": 128,
   "id": "e4495495-ee64-4328-a282-08c9d4f63944",
   "metadata": {},
   "outputs": [
    {
     "name": "stdout",
     "output_type": "stream",
     "text": [
      "                      Total Properties\n",
      "TAX CLASS AT PRESENT                  \n",
      "2A                                  34\n"
     ]
    }
   ],
   "source": [
    "print(pivot_table)"
   ]
  },
  {
   "cell_type": "markdown",
   "id": "4699049e",
   "metadata": {},
   "source": [
    "Filter the dataset to include only properties sold for more than 500,000. Then, group the filtered data by borough and calculate the average sale price and total number of properties sold in each borough. Display the results in descending order of average sale price."
   ]
  },
  {
   "cell_type": "code",
   "execution_count": 132,
   "id": "f018b886",
   "metadata": {},
   "outputs": [],
   "source": [
    "filtered_df = df[df[\"SALE PRICE\"] > 500000]"
   ]
  },
  {
   "cell_type": "code",
   "execution_count": 134,
   "id": "161304e2-6c66-4638-8885-2528c3e10b37",
   "metadata": {},
   "outputs": [],
   "source": [
    "grouped_df = filtered_df.groupby(\"BOROUGH\").agg(\n",
    "    Average_Sale_Price=(\"SALE PRICE\", \"mean\"),\n",
    "    Total_Properties_Sold=(\"SALE PRICE\", \"count\")\n",
    ")"
   ]
  },
  {
   "cell_type": "code",
   "execution_count": 136,
   "id": "d5918d9e-674d-4e32-b1d4-6d1c2f70da7c",
   "metadata": {},
   "outputs": [],
   "source": [
    "sorted_df = grouped_df.sort_values(by=\"Average_Sale_Price\", ascending=False)"
   ]
  },
  {
   "cell_type": "code",
   "execution_count": 138,
   "id": "3dff1df5-0371-4571-9154-183b3ccf1ddd",
   "metadata": {},
   "outputs": [
    {
     "name": "stdout",
     "output_type": "stream",
     "text": [
      "         Average_Sale_Price  Total_Properties_Sold\n",
      "BOROUGH                                           \n",
      "2              3.088044e+06                     77\n",
      "1              2.922215e+06                    555\n",
      "3              1.873859e+06                    491\n",
      "4              1.238781e+06                    367\n",
      "5              7.950960e+05                     97\n"
     ]
    }
   ],
   "source": [
    "print(sorted_df)"
   ]
  },
  {
   "cell_type": "markdown",
   "id": "544e7367",
   "metadata": {},
   "source": [
    "Filter the dataset to include only properties with at least one residential unit and a sale price greater than $1,000,000. Then, group the filtered data by building class category and determine the total number of properties sold and the median sale price for each category."
   ]
  },
  {
   "cell_type": "code",
   "execution_count": 148,
   "id": "fc578a60",
   "metadata": {},
   "outputs": [],
   "source": [
    "df.columns = df.columns.str.upper()"
   ]
  },
  {
   "cell_type": "code",
   "execution_count": 150,
   "id": "69b186ef-5e88-46a2-9574-77f178ae06e0",
   "metadata": {},
   "outputs": [],
   "source": [
    "df[\"SALE PRICE\"] = pd.to_numeric(df[\"SALE PRICE\"], errors=\"coerce\")"
   ]
  },
  {
   "cell_type": "code",
   "execution_count": 152,
   "id": "2fd7abbb-8db0-476b-a8a4-884506e6e533",
   "metadata": {},
   "outputs": [],
   "source": [
    "filtered_df = df[(df[\"RESIDENTIAL UNITS\"] >= 1) & (df[\"SALE PRICE\"] > 1000000)]"
   ]
  },
  {
   "cell_type": "code",
   "execution_count": 154,
   "id": "09d78abe-a4d4-447c-a71b-8b8a28cfdbdd",
   "metadata": {},
   "outputs": [],
   "source": [
    "pivot_table = filtered_df.pivot_table(\n",
    "    index=\"BUILDING CLASS CATEGORY\",\n",
    "    values=[\"SALE PRICE\"],\n",
    "    aggfunc={\"SALE PRICE\": [\"count\", \"median\"]}  "
   ]
  },
  {
   "cell_type": "code",
   "execution_count": 156,
   "id": "e86a52b1-e765-43c6-8cdf-19f1b73323c3",
   "metadata": {},
   "outputs": [],
   "source": [
    "pivot_table.columns = [\"Total Properties Sold\", \"Median Sale Price\"]"
   ]
  },
  {
   "cell_type": "code",
   "execution_count": 158,
   "id": "f0c87de9-fc92-4734-95af-6b9a5b01e702",
   "metadata": {},
   "outputs": [
    {
     "name": "stdout",
     "output_type": "stream",
     "text": [
      "                                             Total Properties Sold  \\\n",
      "BUILDING CLASS CATEGORY                                              \n",
      "01 ONE FAMILY DWELLINGS                                         57   \n",
      "02 TWO FAMILY DWELLINGS                                         87   \n",
      "03 THREE FAMILY DWELLINGS                                       21   \n",
      "04 TAX CLASS 1 CONDOS                                            3   \n",
      "07 RENTALS - WALKUP APARTMENTS                                  59   \n",
      "08 RENTALS - ELEVATOR APARTMENTS                                 4   \n",
      "10 COOPS - ELEVATOR APARTMENTS                                   1   \n",
      "12 CONDOS - WALKUP APARTMENTS                                    2   \n",
      "13 CONDOS - ELEVATOR APARTMENTS                                245   \n",
      "14 RENTALS - 4-10 UNIT                                           8   \n",
      "15 CONDOS - 2-10 UNIT RESIDENTIAL                               15   \n",
      "21 OFFICE BUILDINGS                                              1   \n",
      "22 STORE BUILDINGS                                               5   \n",
      "\n",
      "                                             Median Sale Price  \n",
      "BUILDING CLASS CATEGORY                                         \n",
      "01 ONE FAMILY DWELLINGS                              1500000.0  \n",
      "02 TWO FAMILY DWELLINGS                              1375000.0  \n",
      "03 THREE FAMILY DWELLINGS                            1500000.0  \n",
      "04 TAX CLASS 1 CONDOS                                1486645.0  \n",
      "07 RENTALS - WALKUP APARTMENTS                       2884700.0  \n",
      "08 RENTALS - ELEVATOR APARTMENTS                    17025500.0  \n",
      "10 COOPS - ELEVATOR APARTMENTS                       1400000.0  \n",
      "12 CONDOS - WALKUP APARTMENTS                        1723000.0  \n",
      "13 CONDOS - ELEVATOR APARTMENTS                      1818000.0  \n",
      "14 RENTALS - 4-10 UNIT                               2436500.0  \n",
      "15 CONDOS - 2-10 UNIT RESIDENTIAL                    2107777.0  \n",
      "21 OFFICE BUILDINGS                                  1450000.0  \n",
      "22 STORE BUILDINGS                                   5500000.0  \n"
     ]
    }
   ],
   "source": [
    "print(pivot_table)"
   ]
  }
 ],
 "metadata": {
  "colab": {
   "provenance": []
  },
  "kernelspec": {
   "display_name": "Python [conda env:base] *",
   "language": "python",
   "name": "conda-base-py"
  },
  "language_info": {
   "codemirror_mode": {
    "name": "ipython",
    "version": 3
   },
   "file_extension": ".py",
   "mimetype": "text/x-python",
   "name": "python",
   "nbconvert_exporter": "python",
   "pygments_lexer": "ipython3",
   "version": "3.12.7"
  }
 },
 "nbformat": 4,
 "nbformat_minor": 5
}
